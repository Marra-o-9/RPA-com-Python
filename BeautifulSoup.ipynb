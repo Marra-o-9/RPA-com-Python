{
 "cells": [
  {
   "cell_type": "markdown",
   "metadata": {},
   "source": [
    "# Beautiful Soup"
   ]
  },
  {
   "cell_type": "markdown",
   "metadata": {},
   "source": [
    "```\n",
    "pip install bs4\n",
    "pip install lxml\n",
    "```"
   ]
  },
  {
   "cell_type": "code",
   "execution_count": 1,
   "metadata": {},
   "outputs": [],
   "source": [
    "from bs4 import BeautifulSoup"
   ]
  },
  {
   "cell_type": "code",
   "execution_count": 2,
   "metadata": {},
   "outputs": [],
   "source": [
    "# Carregando o conteúdo HTML\n",
    "html_doc = \"\"\"\n",
    "<html><head><title>Título</title></head>\n",
    "<body><p class=\"titulo\">Parágrafo.</p></body></html>\n",
    "\"\"\""
   ]
  },
  {
   "cell_type": "code",
   "execution_count": 20,
   "metadata": {},
   "outputs": [],
   "source": [
    "# Inicializando o BeautifulSoup com lxml\n",
    "soup = BeautifulSoup(html_doc, \"lxml\")"
   ]
  },
  {
   "cell_type": "code",
   "execution_count": 5,
   "metadata": {},
   "outputs": [
    {
     "name": "stdout",
     "output_type": "stream",
     "text": [
      "Título\n"
     ]
    }
   ],
   "source": [
    "# Acessando o título da página\n",
    "title = soup.title\n",
    "print(title.text)"
   ]
  },
  {
   "cell_type": "code",
   "execution_count": 6,
   "metadata": {},
   "outputs": [
    {
     "name": "stdout",
     "output_type": "stream",
     "text": [
      "Parágrafo.\n"
     ]
    }
   ],
   "source": [
    "# Acessando parágrafos e classes\n",
    "p = soup.find(\"p\", class_=\"titulo\")\n",
    "print(p.text)"
   ]
  },
  {
   "cell_type": "markdown",
   "metadata": {},
   "source": [
    "- BeautifulSoup: Representa o documento inteiro\n",
    "- Tag: Representa uma única tag do documento"
   ]
  },
  {
   "cell_type": "code",
   "execution_count": 7,
   "metadata": {},
   "outputs": [
    {
     "name": "stdout",
     "output_type": "stream",
     "text": [
      "<body></body>\n"
     ]
    }
   ],
   "source": [
    "soup = BeautifulSoup(\"<html><body></body></html>\", \"html.parser\")\n",
    "print(soup.body)"
   ]
  },
  {
   "cell_type": "markdown",
   "metadata": {},
   "source": [
    "- NavigableString: Contém strings de texto dentro de tags\n",
    "- Comment: Representa comentários no HTML/XML"
   ]
  },
  {
   "cell_type": "code",
   "execution_count": 8,
   "metadata": {},
   "outputs": [],
   "source": [
    "text = soup.body.string     # Retorna o texto dentro de uma tag\n",
    "comment = soup.find(string=lambda text: isinstance(text, comment))"
   ]
  },
  {
   "cell_type": "markdown",
   "metadata": {},
   "source": [
    "### Buscando Tags e Atributos"
   ]
  },
  {
   "cell_type": "code",
   "execution_count": 13,
   "metadata": {},
   "outputs": [],
   "source": [
    "# Encontrando todas as tags <a> (links)\n",
    "links = soup.find_all(\"a\")\n",
    "for link in links:\n",
    "    print(link.get(\"href\"))\n",
    "\n",
    "# Acessando atributos\n",
    "img = soup.find(\"img\")\n",
    "# print(img[\"src\"])   # Acessando o atributo \"src\""
   ]
  },
  {
   "cell_type": "code",
   "execution_count": 14,
   "metadata": {},
   "outputs": [],
   "source": [
    "# Usando seletores CSS\n",
    "items = soup.select(\"div#main ul.items li\")\n",
    "for item in items:\n",
    "    print(item.text)"
   ]
  },
  {
   "cell_type": "code",
   "execution_count": 21,
   "metadata": {},
   "outputs": [
    {
     "name": "stdout",
     "output_type": "stream",
     "text": [
      "<title>Novo Título</title>\n",
      "item1\n"
     ]
    }
   ],
   "source": [
    "# Modificando o conteúdo de uma tag\n",
    "soup.title.string = \"Novo Título\"\n",
    "print(soup.title)\n",
    "\n",
    "# Trabalhando com XML\n",
    "xml_doc = \"\"\"<data><item name=\"item1\">Item 1</item></data>\"\"\"\n",
    "soup = BeautifulSoup(xml_doc, \"xml\")\n",
    "item = soup.find(\"item\")\n",
    "print(item[\"name\"])"
   ]
  },
  {
   "cell_type": "markdown",
   "metadata": {},
   "source": [
    "> Acessando Filhos e Descendentes"
   ]
  },
  {
   "cell_type": "code",
   "execution_count": 25,
   "metadata": {},
   "outputs": [
    {
     "name": "stdout",
     "output_type": "stream",
     "text": [
      "[<p>Texto</p>]\n"
     ]
    }
   ],
   "source": [
    "# Carregando o conteúdo HTML\n",
    "html_doc = \"<html><body><p>Texto</p></body></html>\"\n",
    "soup = BeautifulSoup(html_doc, \"html.parser\")\n",
    "\n",
    "# Acessando filhos da tag <body>\n",
    "body_tag = soup.body\n",
    "print(body_tag.contents)"
   ]
  },
  {
   "cell_type": "code",
   "execution_count": 26,
   "metadata": {},
   "outputs": [
    {
     "name": "stdout",
     "output_type": "stream",
     "text": [
      "<p>Texto</p>\n"
     ]
    }
   ],
   "source": [
    "# Iterando sobre os filhos\n",
    "for child in body_tag.children:\n",
    "    print(child)"
   ]
  },
  {
   "cell_type": "code",
   "execution_count": 27,
   "metadata": {},
   "outputs": [
    {
     "name": "stdout",
     "output_type": "stream",
     "text": [
      "<p>Texto</p>\n",
      "Texto\n"
     ]
    }
   ],
   "source": [
    "# Acessando todos os descendentes\n",
    "for docs in body_tag.descendants:\n",
    "    print(docs)"
   ]
  },
  {
   "cell_type": "markdown",
   "metadata": {},
   "source": [
    "> Navegando Entre Irmãos"
   ]
  },
  {
   "cell_type": "code",
   "execution_count": 30,
   "metadata": {},
   "outputs": [
    {
     "name": "stdout",
     "output_type": "stream",
     "text": [
      "Texto 2\n"
     ]
    }
   ],
   "source": [
    "html_doc = \"\"\"\n",
    "<html><body>\n",
    "<p>Texto 1</p>\n",
    "<p>Texto 2</p>\n",
    "<p>Texto 3</p>\n",
    "</body></html>\n",
    "\"\"\"\n",
    "soup = BeautifulSoup(html_doc, 'html.parser')\n",
    "\n",
    "# Próximo irmão da primeira tag <p>\n",
    "first_p = soup.p\n",
    "next_p = first_p.find_next_sibling('p')\n",
    "print(next_p.text) "
   ]
  },
  {
   "cell_type": "markdown",
   "metadata": {},
   "source": [
    "> Navegando entre Elementos Adjacentes"
   ]
  },
  {
   "cell_type": "code",
   "execution_count": 31,
   "metadata": {},
   "outputs": [],
   "source": [
    "html_doc = \"\"\"\n",
    "<html><body>\n",
    "<p>Texto 1</p>\n",
    "<a href=\"#\">Link</a>\n",
    "<p>Texto 2</p>\n",
    "</body></html>\n",
    "\"\"\"\n",
    "soup = BeautifulSoup(html_doc, 'html.parser')"
   ]
  },
  {
   "cell_type": "code",
   "execution_count": 32,
   "metadata": {},
   "outputs": [
    {
     "name": "stdout",
     "output_type": "stream",
     "text": [
      "<a href=\"#\">Link</a>\n"
     ]
    }
   ],
   "source": [
    "# Acessando o próximo elemento após a tag <p>\n",
    "first_p = soup.p\n",
    "next_element = first_p.find_next('a')\n",
    "print(next_element)"
   ]
  },
  {
   "cell_type": "code",
   "execution_count": 33,
   "metadata": {},
   "outputs": [
    {
     "name": "stdout",
     "output_type": "stream",
     "text": [
      "Texto 1\n"
     ]
    }
   ],
   "source": [
    "# Acessando o elemento anterior\n",
    "previous_element = next_element.find_previous('p')\n",
    "print(previous_element.text)"
   ]
  },
  {
   "cell_type": "markdown",
   "metadata": {},
   "source": [
    "# XPath com Beautiful Soup"
   ]
  },
  {
   "cell_type": "code",
   "execution_count": 3,
   "metadata": {},
   "outputs": [],
   "source": [
    "from lxml import etree"
   ]
  },
  {
   "cell_type": "code",
   "execution_count": 4,
   "metadata": {},
   "outputs": [],
   "source": [
    "html = \"\"\"\n",
    "<div id=\"main\">\n",
    "    <div class=\"example\">First</div>\n",
    "    <div class=\"example\">Second</div>\n",
    "    <div class=\"sample\">Third</div>\n",
    "    <abc class=\"example\">Sei lá</abc>\n",
    "</div>\n",
    "\"\"\""
   ]
  },
  {
   "cell_type": "code",
   "execution_count": 5,
   "metadata": {},
   "outputs": [
    {
     "name": "stdout",
     "output_type": "stream",
     "text": [
      "Sei lá\n"
     ]
    }
   ],
   "source": [
    "tree = etree.HTML(html)\n",
    "elements = tree.xpath(\"//div[@id='main']/abc[@class='example']\")\n",
    "print(elements[0].text)"
   ]
  },
  {
   "cell_type": "code",
   "execution_count": 10,
   "metadata": {},
   "outputs": [],
   "source": [
    "html = \"\"\"\n",
    "<?xml version=\"1.0\" encoding=\"UTF-8\"?>\n",
    "<nfeProc versao=\"3.10\" xmlns=\"http://www.portalfiscal.inf.br/nfe\">\n",
    "    <NFe xmlns=\"http://www.portalfiscal.inf.br/nfe\">\n",
    "        <infNFe Id=\"NFe35150300822602000124550010009923461099234656\" versao=\"3.10\">\n",
    "            <ide>\n",
    "                <cUF>35</cUF>\n",
    "                <cNF>09923465</cNF>\n",
    "                <natOp>Venda prod. do estab.</natOp>\n",
    "                <indPag>1</indPag>\n",
    "                <mod>55</mod>\n",
    "                <serie>1</serie>\n",
    "                <nNF>992346</nNF>\n",
    "                <dhEmi>2015-03-27T09:40:00-03:00</dhEmi>\n",
    "                <dhSaiEnt>2015-03-27T09:40:00-03:00</dhSaiEnt>\n",
    "                <tpNF>1</tpNF>\n",
    "                <idDest>1</idDest>\n",
    "                <cMunFG>3550308</cMunFG>\n",
    "                <tpImp>1</tpImp>\n",
    "                <tpEmis>1</tpEmis>\n",
    "                <cDV>6</cDV>\n",
    "                <tpAmb>2</tpAmb>\n",
    "                <finNFe>1</finNFe>\n",
    "                <indFinal>1</indFinal>\n",
    "                <indPres>3</indPres>\n",
    "                <procEmi>3</procEmi>\n",
    "                <verProc>3.10.43</verProc>\n",
    "            </ide>\n",
    "            <emit>\n",
    "                <CNPJ>00822602000124</CNPJ>\n",
    "                <xNome>Plotag Sistemas e Suprimentos Ltda</xNome>\n",
    "                <xFant>Plotag - Localhost</xFant>\n",
    "                <enderEmit>\n",
    "                    <xLgr>Rua Solon</xLgr>\n",
    "                    <nro>558</nro>\n",
    "                    <xBairro>Bom Retiro</xBairro>\n",
    "                    <cMun>3550308</cMun>\n",
    "                    <xMun>Sao Paulo</xMun>\n",
    "                    <UF>SP</UF>\n",
    "                    <CEP>01127010</CEP>\n",
    "                    <cPais>1058</cPais>\n",
    "                    <xPais>BRASIL</xPais>\n",
    "                    <fone>1123587604</fone>\n",
    "                </enderEmit>\n",
    "                <IE>114489114119</IE>\n",
    "                <CRT>1</CRT>\n",
    "            </emit>\n",
    "            <dest>\n",
    "                <CNPJ>99999999000191</CNPJ>\n",
    "                <xNome>NF-E EMITIDA EM AMBIENTE DE HOMOLOGACAO - SEM VALOR FISCAL</xNome>\n",
    "                <enderDest>\n",
    "                    <xLgr>Rua Jaragua</xLgr>\n",
    "                    <nro>774</nro>\n",
    "                    <xBairro>Bom Retiro</xBairro>\n",
    "                    <cMun>3550308</cMun>\n",
    "                    <xMun>Sao Paulo</xMun>\n",
    "                    <UF>SP</UF>\n",
    "                    <CEP>01129000</CEP>\n",
    "                    <cPais>1058</cPais>\n",
    "                    <xPais>BRASIL</xPais>\n",
    "                    <fone>33933501</fone>\n",
    "                </enderDest>\n",
    "                <indIEDest>9</indIEDest>\n",
    "                <email>gui_calabria@yahoo.com.br</email>\n",
    "            </dest>\n",
    "            <det nItem=\"1\">\n",
    "                <prod>\n",
    "                    <cProd>B17025056</cProd>\n",
    "                    <cEAN/>\n",
    "                    <xProd>PAPEL MAXPLOT- 170MX250MX56GRS 3\"</xProd>\n",
    "                    <NCM>48025599</NCM>\n",
    "                    <CFOP>5101</CFOP>\n",
    "                    <uCom>Rl</uCom>\n",
    "                    <qCom>1.0000</qCom>\n",
    "                    <vUnCom>138.3000</vUnCom>\n",
    "                    <vProd>138.30</vProd>\n",
    "                    <cEANTrib/>\n",
    "                    <uTrib>RL</uTrib>\n",
    "                    <qTrib>1.0000</qTrib>\n",
    "                    <vUnTrib>138.3000</vUnTrib>\n",
    "                    <indTot>1</indTot>\n",
    "                </prod>\n",
    "                <imposto>\n",
    "                    <vTotTrib>41.49</vTotTrib>\n",
    "                    <ICMS>\n",
    "                        <ICMSSN101>\n",
    "                            <orig>0</orig>\n",
    "                            <CSOSN>101</CSOSN>\n",
    "                            <pCredSN>2.5600</pCredSN>\n",
    "                            <vCredICMSSN>3.54</vCredICMSSN>\n",
    "                        </ICMSSN101>\n",
    "                    </ICMS>\n",
    "                    <IPI>\n",
    "                        <clEnq>48025</clEnq>\n",
    "                        <CNPJProd>00822602000124</CNPJProd>\n",
    "                        <cEnq>599</cEnq>\n",
    "                        <IPINT>\n",
    "                            <CST>53</CST>\n",
    "                        </IPINT>\n",
    "                    </IPI>\n",
    "                    <PIS>\n",
    "                        <PISNT>\n",
    "                            <CST>07</CST>\n",
    "                        </PISNT>\n",
    "                    </PIS>\n",
    "                    <COFINS>\n",
    "                        <COFINSNT>\n",
    "                            <CST>07</CST>\n",
    "                        </COFINSNT>\n",
    "                    </COFINS>\n",
    "                </imposto>\n",
    "            </det>\n",
    "            <det nItem=\"2\">\n",
    "                <prod>\n",
    "                    <cProd>1070100752</cProd>\n",
    "                    <cEAN/>\n",
    "                    <xProd>PAPEL MAXPLOT- 1070X100MX75GRS 2\"</xProd>\n",
    "                    <NCM>48025599</NCM>\n",
    "                    <CFOP>5101</CFOP>\n",
    "                    <uCom>RL</uCom>\n",
    "                    <qCom>1.0000</qCom>\n",
    "                    <vUnCom>48.9100</vUnCom>\n",
    "                    <vProd>48.91</vProd>\n",
    "                    <cEANTrib/>\n",
    "                    <uTrib>RL</uTrib>\n",
    "                    <qTrib>1.0000</qTrib>\n",
    "                    <vUnTrib>48.9100</vUnTrib>\n",
    "                    <indTot>1</indTot>\n",
    "                </prod>\n",
    "                <imposto>\n",
    "                    <vTotTrib>14.67</vTotTrib>\n",
    "                    <ICMS>\n",
    "                        <ICMSSN101>\n",
    "                            <orig>0</orig>\n",
    "                            <CSOSN>101</CSOSN>\n",
    "                            <pCredSN>2.5600</pCredSN>\n",
    "                            <vCredICMSSN>1.25</vCredICMSSN>\n",
    "                        </ICMSSN101>\n",
    "                    </ICMS>\n",
    "                    <IPI>\n",
    "                        <clEnq>48025</clEnq>\n",
    "                        <CNPJProd>00822602000124</CNPJProd>\n",
    "                        <cEnq>599</cEnq>\n",
    "                        <IPINT>\n",
    "                            <CST>53</CST>\n",
    "                        </IPINT>\n",
    "                    </IPI>\n",
    "                    <PIS>\n",
    "                        <PISNT>\n",
    "                            <CST>07</CST>\n",
    "                        </PISNT>\n",
    "                    </PIS>\n",
    "                    <COFINS>\n",
    "                        <COFINSNT>\n",
    "                            <CST>07</CST>\n",
    "                        </COFINSNT>\n",
    "                    </COFINS>\n",
    "                </imposto>\n",
    "            </det>\n",
    "            <det nItem=\"3\">\n",
    "                <prod>\n",
    "                    <cProd>B17025056</cProd>\n",
    "                    <cEAN/>\n",
    "                    <xProd>PAPEL MAXPLOT- 170MX250MX56GRS 3\"</xProd>\n",
    "                    <NCM>48025599</NCM>\n",
    "                    <CFOP>5101</CFOP>\n",
    "                    <uCom>Rl</uCom>\n",
    "                    <qCom>1.0000</qCom>\n",
    "                    <vUnCom>138.3000</vUnCom>\n",
    "                    <vProd>138.30</vProd>\n",
    "                    <cEANTrib/>\n",
    "                    <uTrib>RL</uTrib>\n",
    "                    <qTrib>1.0000</qTrib>\n",
    "                    <vUnTrib>138.3000</vUnTrib>\n",
    "                    <indTot>1</indTot>\n",
    "                </prod>\n",
    "                <imposto>\n",
    "                    <vTotTrib>41.49</vTotTrib>\n",
    "                    <ICMS>\n",
    "                        <ICMSSN101>\n",
    "                            <orig>0</orig>\n",
    "                            <CSOSN>101</CSOSN>\n",
    "                            <pCredSN>2.5600</pCredSN>\n",
    "                            <vCredICMSSN>3.54</vCredICMSSN>\n",
    "                        </ICMSSN101>\n",
    "                    </ICMS>\n",
    "                    <IPI>\n",
    "                        <clEnq>48025</clEnq>\n",
    "                        <CNPJProd>00822602000124</CNPJProd>\n",
    "                        <cEnq>599</cEnq>\n",
    "                        <IPINT>\n",
    "                            <CST>53</CST>\n",
    "                        </IPINT>\n",
    "                    </IPI>\n",
    "                    <PIS>\n",
    "                        <PISNT>\n",
    "                            <CST>07</CST>\n",
    "                        </PISNT>\n",
    "                    </PIS>\n",
    "                    <COFINS>\n",
    "                        <COFINSNT>\n",
    "                            <CST>07</CST>\n",
    "                        </COFINSNT>\n",
    "                    </COFINS>\n",
    "                </imposto>\n",
    "            </det>\n",
    "            <det nItem=\"4\">\n",
    "                <prod>\n",
    "                    <cProd>B17040056</cProd>\n",
    "                    <cEAN/>\n",
    "                    <xProd>PAPEL MAXPLOT - 1.700X400MX 56 GRS 3\"</xProd>\n",
    "                    <NCM>48025599</NCM>\n",
    "                    <CFOP>5101</CFOP>\n",
    "                    <uCom>Rl</uCom>\n",
    "                    <qCom>1.0000</qCom>\n",
    "                    <vUnCom>214.5700</vUnCom>\n",
    "                    <vProd>214.57</vProd>\n",
    "                    <cEANTrib/>\n",
    "                    <uTrib>Rl</uTrib>\n",
    "                    <qTrib>1.0000</qTrib>\n",
    "                    <vUnTrib>214.5700</vUnTrib>\n",
    "                    <indTot>1</indTot>\n",
    "                </prod>\n",
    "                <imposto>\n",
    "                    <vTotTrib>64.37</vTotTrib>\n",
    "                    <ICMS>\n",
    "                        <ICMSSN101>\n",
    "                            <orig>0</orig>\n",
    "                            <CSOSN>101</CSOSN>\n",
    "                            <pCredSN>2.5600</pCredSN>\n",
    "                            <vCredICMSSN>5.49</vCredICMSSN>\n",
    "                        </ICMSSN101>\n",
    "                    </ICMS>\n",
    "                    <IPI>\n",
    "                        <clEnq>48025</clEnq>\n",
    "                        <CNPJProd>00822602000124</CNPJProd>\n",
    "                        <cEnq>599</cEnq>\n",
    "                        <IPINT>\n",
    "                            <CST>53</CST>\n",
    "                        </IPINT>\n",
    "                    </IPI>\n",
    "                    <PIS>\n",
    "                        <PISNT>\n",
    "                            <CST>07</CST>\n",
    "                        </PISNT>\n",
    "                    </PIS>\n",
    "                    <COFINS>\n",
    "                        <COFINSNT>\n",
    "                            <CST>07</CST>\n",
    "                        </COFINSNT>\n",
    "                    </COFINS>\n",
    "                </imposto>\n",
    "            </det>\n",
    "            <det nItem=\"5\">\n",
    "                <prod>\n",
    "                    <cProd>B18525056</cProd>\n",
    "                    <cEAN/>\n",
    "                    <xProd>PAPEL MAXPLOT-1.85MX250MX56GRS 3\"</xProd>\n",
    "                    <NCM>48025599</NCM>\n",
    "                    <CFOP>5101</CFOP>\n",
    "                    <uCom>Rl</uCom>\n",
    "                    <qCom>1.0000</qCom>\n",
    "                    <vUnCom>149.8300</vUnCom>\n",
    "                    <vProd>149.83</vProd>\n",
    "                    <cEANTrib/>\n",
    "                    <uTrib>RL</uTrib>\n",
    "                    <qTrib>1.0000</qTrib>\n",
    "                    <vUnTrib>149.8300</vUnTrib>\n",
    "                    <indTot>1</indTot>\n",
    "                </prod>\n",
    "                <imposto>\n",
    "                    <vTotTrib>44.95</vTotTrib>\n",
    "                    <ICMS>\n",
    "                        <ICMSSN101>\n",
    "                            <orig>0</orig>\n",
    "                            <CSOSN>101</CSOSN>\n",
    "                            <pCredSN>2.5600</pCredSN>\n",
    "                            <vCredICMSSN>3.84</vCredICMSSN>\n",
    "                        </ICMSSN101>\n",
    "                    </ICMS>\n",
    "                    <IPI>\n",
    "                        <clEnq>48025</clEnq>\n",
    "                        <CNPJProd>00822602000124</CNPJProd>\n",
    "                        <cEnq>599</cEnq>\n",
    "                        <IPINT>\n",
    "                            <CST>53</CST>\n",
    "                        </IPINT>\n",
    "                    </IPI>\n",
    "                    <PIS>\n",
    "                        <PISNT>\n",
    "                            <CST>07</CST>\n",
    "                        </PISNT>\n",
    "                    </PIS>\n",
    "                    <COFINS>\n",
    "                        <COFINSNT>\n",
    "                            <CST>07</CST>\n",
    "                        </COFINSNT>\n",
    "                    </COFINS>\n",
    "                </imposto>\n",
    "            </det>\n",
    "            <total>\n",
    "                <ICMSTot>\n",
    "                    <vBC>0.00</vBC>\n",
    "                    <vICMS>0.00</vICMS>\n",
    "                    <vICMSDeson>0.00</vICMSDeson>\n",
    "                    <vBCST>0.00</vBCST>\n",
    "                    <vST>0.00</vST>\n",
    "                    <vProd>689.91</vProd>\n",
    "                    <vFrete>0.00</vFrete>\n",
    "                    <vSeg>0.00</vSeg>\n",
    "                    <vDesc>0.00</vDesc>\n",
    "                    <vII>0.00</vII>\n",
    "                    <vIPI>0.00</vIPI>\n",
    "                    <vPIS>0.00</vPIS>\n",
    "                    <vCOFINS>0.00</vCOFINS>\n",
    "                    <vOutro>0.00</vOutro>\n",
    "                    <vNF>689.91</vNF>\n",
    "                    <vTotTrib>206.97</vTotTrib>\n",
    "                </ICMSTot>\n",
    "            </total>\n",
    "            <transp>\n",
    "                <modFrete>1</modFrete>\n",
    "                <transporta>\n",
    "                    <xNome>Cliente Retira</xNome>\n",
    "                    <xEnder>Rua ,</xEnder>\n",
    "                    <xMun>Sao Paulo</xMun>\n",
    "                    <UF>SP</UF>\n",
    "                </transporta>\n",
    "                <vol>\n",
    "                    <qVol>1</qVol>\n",
    "                    <marca>S/m</marca>\n",
    "                    <nVol>S/n</nVol>\n",
    "                    <pesoL>0.000</pesoL>\n",
    "                    <pesoB>0.000</pesoB>\n",
    "                </vol>\n",
    "            </transp>\n",
    "            <cobr>\n",
    "                <fat>\n",
    "                    <nFat>992346</nFat>\n",
    "                    <vOrig>689.91</vOrig>\n",
    "                    <vLiq>689.91</vLiq>\n",
    "                </fat>\n",
    "                <dup>\n",
    "                    <nDup>992346</nDup>\n",
    "                    <dVenc>2015-04-24</dVenc>\n",
    "                    <vDup>689.91</vDup>\n",
    "                </dup>\n",
    "            </cobr>\n",
    "            <infAdic>\n",
    "                <infCpl>\"DOCUMENTO EMITIDO POR EMPRESA OPTANTE PELO SIMPLES NACIONAL;NAO GERA DIREITO A CREDITO FISCAL DE IPI\";\"PERMITE O APROVEITAMENTO DE CREDITO DE ICMS NO VALOR DE: R$17,66 CORRESPONDENTE A ALIQUOTA DE 2.56%\";Vendedor:1 - Guilherme Kavedikado;Valor Aproximado dos Tributos : R$ 206,97. Fonte IBPT (Instituto Brasileiro de Planejamento Tributario)</infCpl>\n",
    "            </infAdic>\n",
    "        </infNFe>\n",
    "        <Signature xmlns=\"http://www.w3.org/2000/09/xmldsig#\">\n",
    "            <SignedInfo>\n",
    "                <CanonicalizationMethod Algorithm=\"http://www.w3.org/TR/2001/REC-xml-c14n-20010315\"/>\n",
    "                <SignatureMethod Algorithm=\"http://www.w3.org/2000/09/xmldsig#rsa-sha1\"/>\n",
    "                <Reference URI=\"#NFe35150300822602000124550010009923461099234656\">\n",
    "                    <Transforms>\n",
    "                        <Transform Algorithm=\"http://www.w3.org/2000/09/xmldsig#enveloped-signature\"/>\n",
    "                        <Transform Algorithm=\"http://www.w3.org/TR/2001/REC-xml-c14n-20010315\"/>\n",
    "                    </Transforms>\n",
    "                    <DigestMethod Algorithm=\"http://www.w3.org/2000/09/xmldsig#sha1\"/>\n",
    "                    <DigestValue>oWFauN7opm3Q6yKVaHiEBqW3DwU=</DigestValue>\n",
    "                </Reference>\n",
    "            </SignedInfo>\n",
    "            <SignatureValue>KNhzxr9mt2fNcqf4+UIU9XrkzNqw6qg/Mk/uXCXev6YwWf9iF0hLZiRIqKrlUKicCCBzRTxUOiI/\n",
    "orc/NtXcAHvX/8LVzlvc/OdiuH+XeqDOgl7KCziu6xN71OW016GQZN6VDOqFwyz3Xp2pPZf56nNs\n",
    "5CBiLxPtNvX8CM0oMarUKOl8FFZCTnEwWbGXhbShoQ+2MYS9NnC06TCUjXwVQp6T4UAyLjSFuGbD\n",
    "o2XLpzsVU9UQD2qESpSISGwLEVnRaLeeqJI4MRxtwiEBhSvq0R40sI/ejDHkyAx2XT583msAZV32\n",
    "i1T+SDM2tIL3zoDQGa4lEm8WxCIKJFluXX7rxg==</SignatureValue><KeyInfo><X509Data><X509Certificate>MIIIajCCBlKgAwIBAgIQTLtMm7tkr6qjM8wZTpUo5jANBgkqhkiG9w0BAQsFADB4MQswCQYDVQQG\n",
    "EwJCUjETMBEGA1UEChMKSUNQLUJyYXNpbDE2MDQGA1UECxMtU2VjcmV0YXJpYSBkYSBSZWNlaXRh\n",
    "IEZlZGVyYWwgZG8gQnJhc2lsIC0gUkZCMRwwGgYDVQQDExNBQyBDZXJ0aXNpZ24gUkZCIEc0MB4X\n",
    "DTE0MTAxMzAwMDAwMFoXDTE1MTAxMjIzNTk1OVowggEMMQswCQYDVQQGEwJCUjETMBEGA1UEChQK\n",
    "SUNQLUJyYXNpbDELMAkGA1UECBMCU1AxEjAQBgNVBAcUCVNBTyBQQVVMTzE2MDQGA1UECxQtU2Vj\n",
    "cmV0YXJpYSBkYSBSZWNlaXRhIEZlZGVyYWwgZG8gQnJhc2lsIC0gUkZCMRYwFAYDVQQLFA1SRkIg\n",
    "ZS1DTlBKIEExMTgwNgYDVQQLFC9BdXRlbnRpY2FkbyBwb3IgQ2VydGlzaWduIENlcnRpZmljYWRv\n",
    "cmEgRGlnaXRhbDE9MDsGA1UEAxM0UExPVEFHIFNJU1RFTUFTIEUgU1VQUklNRU5UT1MgTFREQSBN\n",
    "RTowMDgyMjYwMjAwMDEyNDCCASIwDQYJKoZIhvcNAQEBBQADggEPADCCAQoCggEBAI0Y640hajWB\n",
    "yU0S/7MH47RnCE9dq9Kti72iKBkNwOwZQbysO3InQQZkkZCUn5rGEKKw9R7ddTleZFy3aOR3nGpZ\n",
    "qulRP3AkjSWnHmTs1KxdPZra1Py5X0VekDOCk43O1vhsCrml7eiCFzivg5vFwUyAT3u5t8k6Muh9\n",
    "6/QymvkQzxhGyIvtB9Qe1256q1oB9HOPSlPijciXrf6d4SdBQouT77W6A1SyOjZ+T/XZhjNXx5HD\n",
    "MFyDCEJSM/Zp4k2h+mV7MfVKDKZ2J290YWn9XCI6giLeeNNRS6TK5yrQCZYv0/GiKE3I2nMreEFJ\n",
    "qrUpuLpiURJIoqbri59N/AXcxJ0CAwEAAaOCA1gwggNUMIG9BgNVHREEgbUwgbKgPQYFYEwBAwSg\n",
    "NAQyMTYxMjE5NjAzNTQ5OTU4MzQwNDAwMDAwMDAwMDAwMDAwMDAwMDU2MjkzNDIzU1NQU1CgJgYF\n",
    "YEwBAwKgHQQbTU9OSUNBIE1BUklBIE1VTklaIENBTEFCUklBoBkGBWBMAQMDoBAEDjAwODIyNjAy\n",
    "MDAwMTI0oBcGBWBMAQMHoA4EDDAwMDAwMDAwMDAwMIEVc3Vwb3J0ZUBwbG90YWcuY29tLmJyMAkG\n",
    "A1UdEwQCMAAwHwYDVR0jBBgwFoAULpHq1m3lslmC3DiFKXY0FlY80D4wDgYDVR0PAQH/BAQDAgXg\n",
    "MH8GA1UdIAR4MHYwdAYGYEwBAgEMMGowaAYIKwYBBQUHAgEWXGh0dHA6Ly9pY3AtYnJhc2lsLmNl\n",
    "cnRpc2lnbi5jb20uYnIvcmVwb3NpdG9yaW8vZHBjL0FDX0NlcnRpc2lnbl9SRkIvRFBDX0FDX0Nl\n",
    "cnRpc2lnbl9SRkIucGRmMIIBFgYDVR0fBIIBDTCCAQkwV6BVoFOGUWh0dHA6Ly9pY3AtYnJhc2ls\n",
    "LmNlcnRpc2lnbi5jb20uYnIvcmVwb3NpdG9yaW8vbGNyL0FDQ2VydGlzaWduUkZCRzQvTGF0ZXN0\n",
    "Q1JMLmNybDBWoFSgUoZQaHR0cDovL2ljcC1icmFzaWwub3V0cmFsY3IuY29tLmJyL3JlcG9zaXRv\n",
    "cmlvL2xjci9BQ0NlcnRpc2lnblJGQkc0L0xhdGVzdENSTC5jcmwwVqBUoFKGUGh0dHA6Ly9yZXBv\n",
    "c2l0b3Jpby5pY3BicmFzaWwuZ292LmJyL2xjci9DZXJ0aXNpZ24vQUNDZXJ0aXNpZ25SRkJHNC9M\n",
    "YXRlc3RDUkwuY3JsMB0GA1UdJQQWMBQGCCsGAQUFBwMCBggrBgEFBQcDBDCBmwYIKwYBBQUHAQEE\n",
    "gY4wgYswXwYIKwYBBQUHMAKGU2h0dHA6Ly9pY3AtYnJhc2lsLmNlcnRpc2lnbi5jb20uYnIvcmVw\n",
    "b3NpdG9yaW8vY2VydGlmaWNhZG9zL0FDX0NlcnRpc2lnbl9SRkJfRzQucDdjMCgGCCsGAQUFBzAB\n",
    "hhxodHRwOi8vb2NzcC5jZXJ0aXNpZ24uY29tLmJyMA0GCSqGSIb3DQEBCwUAA4ICAQBKs2v9oWD9\n",
    "7L3/P3v6Xvfng4Ul1H53BuUPdrQac1lkS9B0Id7NeSrgXFw+Wm6+fanyUsXYeYGsAQ3dw6hIEKS1\n",
    "vHm5/8UtL5qaQiuGISY2MxfpUy0gA4qkPB05+eTBr6VUpejpqBORAQTjO6j6NI+HpRsCyTUpG9tJ\n",
    "JStGw63QZpMLJCHsh+lKPrl8ESt9FElbsLo8XYqYvClA53gZj3exLKzRgw0ayAW5DYrIOprB0r58\n",
    "qLRwLpRdtG4LIQU0JSiFEF2snJ2wGAX1bFuvjmv7QmvTfbeRKH4ttkkU7Fk1im9cN8AxLOg61tZ7\n",
    "jR+aTeFXjQ2Bbw9bEzRHGVq3VZOI6007Z7pwOZ4eqBO0I/LT+BHZ2SnFJ8UKOI1xgL5EMapIZLbJ\n",
    "+lr3bJcjl0WoPlxZs8TvutjG9Fbv08ZpgPo35IRx9K1aDJ514sDTqHwQgXYI279o7i+JJylH3rDv\n",
    "7ahVNgJgkfS/j5b0P1ggwQnPtbSDLPt3LX0A+wa9zrTxz5v0/ALddjEFoBkyp+SN6H605yenmy0x\n",
    "Cj7bxTnL+am8nrxufOQXdpHFRGuBhhe0qlRM+EVyGZbl29kN2zm4OHZCA5KAnMcChDZrY3QoYlLK\n",
    "k3vVkmzq0AGmoO4CxOr33CBFzLbtDHFAoCotvE+x58E7G3CX3J+t1U5dz8PBBsYNkg==</X509Certificate></X509Data></KeyInfo></Signature></NFe><protNFe versao=\"3.10\"><infProt><tpAmb>2</tpAmb><verAplic>SP_NFE_PL_008f</verAplic><chNFe>35150300822602000124550010009923461099234656</chNFe><dhRecbto>2015-03-27T16:50:50-03:00</dhRecbto><nProt>135150001686732</nProt><digVal>oWFauN7opm3Q6yKVaHiEBqW3DwU=</digVal><cStat>100</cStat><xMotivo>Autorizado o uso da NF-e</xMotivo></infProt></protNFe></nfeProc>\n",
    "\"\"\""
   ]
  },
  {
   "cell_type": "code",
   "execution_count": 31,
   "metadata": {},
   "outputs": [
    {
     "name": "stdout",
     "output_type": "stream",
     "text": [
      "00822602000124\n"
     ]
    }
   ],
   "source": [
    "tree = etree.HTML(html)\n",
    "elements = tree.xpath(\"//emit/cnpj\")\n",
    "print(elements[0].text)"
   ]
  },
  {
   "cell_type": "code",
   "execution_count": 32,
   "metadata": {},
   "outputs": [
    {
     "name": "stdout",
     "output_type": "stream",
     "text": [
      "14.67\n"
     ]
    }
   ],
   "source": [
    "elements = tree.xpath(\"//det[@nitem='2']/imposto/vtottrib\")\n",
    "print(elements[0].text)"
   ]
  }
 ],
 "metadata": {
  "kernelspec": {
   "display_name": "Python 3",
   "language": "python",
   "name": "python3"
  },
  "language_info": {
   "codemirror_mode": {
    "name": "ipython",
    "version": 3
   },
   "file_extension": ".py",
   "mimetype": "text/x-python",
   "name": "python",
   "nbconvert_exporter": "python",
   "pygments_lexer": "ipython3",
   "version": "3.12.3"
  }
 },
 "nbformat": 4,
 "nbformat_minor": 2
}
