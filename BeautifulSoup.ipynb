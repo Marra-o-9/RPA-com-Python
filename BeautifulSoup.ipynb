{
 "cells": [
  {
   "cell_type": "markdown",
   "metadata": {},
   "source": [
    "# Beautiful Soup"
   ]
  },
  {
   "cell_type": "markdown",
   "metadata": {},
   "source": [
    "```\n",
    "pip install bs4\n",
    "pip install lxml\n",
    "```"
   ]
  },
  {
   "cell_type": "code",
   "execution_count": 1,
   "metadata": {},
   "outputs": [],
   "source": [
    "from bs4 import BeautifulSoup"
   ]
  },
  {
   "cell_type": "code",
   "execution_count": 3,
   "metadata": {},
   "outputs": [],
   "source": [
    "# Carregando o conteúdo HTML\n",
    "html_doc = \"\"\"\n",
    "<html><head><title>Título</title></head>\n",
    "<body><p class=\"titulo\">Parágrafo.</p></body></html>\n",
    "\"\"\""
   ]
  },
  {
   "cell_type": "code",
   "execution_count": 20,
   "metadata": {},
   "outputs": [],
   "source": [
    "# Inicializando o BeautifulSoup com lxml\n",
    "soup = BeautifulSoup(html_doc, \"lxml\")"
   ]
  },
  {
   "cell_type": "code",
   "execution_count": 5,
   "metadata": {},
   "outputs": [
    {
     "name": "stdout",
     "output_type": "stream",
     "text": [
      "Título\n"
     ]
    }
   ],
   "source": [
    "# Acessando o título da página\n",
    "title = soup.title\n",
    "print(title.text)"
   ]
  },
  {
   "cell_type": "code",
   "execution_count": 6,
   "metadata": {},
   "outputs": [
    {
     "name": "stdout",
     "output_type": "stream",
     "text": [
      "Parágrafo.\n"
     ]
    }
   ],
   "source": [
    "# Acessando parágrafos e classes\n",
    "p = soup.find(\"p\", class_=\"titulo\")\n",
    "print(p.text)"
   ]
  },
  {
   "cell_type": "markdown",
   "metadata": {},
   "source": [
    "- BeautifulSoup: Representa o documento inteiro\n",
    "- Tag: Representa uma única tag do documento"
   ]
  },
  {
   "cell_type": "code",
   "execution_count": 7,
   "metadata": {},
   "outputs": [
    {
     "name": "stdout",
     "output_type": "stream",
     "text": [
      "<body></body>\n"
     ]
    }
   ],
   "source": [
    "soup = BeautifulSoup(\"<html><body></body></html>\", \"html.parser\")\n",
    "print(soup.body)"
   ]
  },
  {
   "cell_type": "markdown",
   "metadata": {},
   "source": [
    "- NavigableString: Contém strings de texto dentro de tags\n",
    "- Comment: Representa comentários no HTML/XML"
   ]
  },
  {
   "cell_type": "code",
   "execution_count": 8,
   "metadata": {},
   "outputs": [],
   "source": [
    "text = soup.body.string     # Retorna o texto dentro de uma tag\n",
    "comment = soup.find(string=lambda text: isinstance(text, comment))"
   ]
  },
  {
   "cell_type": "markdown",
   "metadata": {},
   "source": [
    "### Buscando Tags e Atributos"
   ]
  },
  {
   "cell_type": "code",
   "execution_count": 13,
   "metadata": {},
   "outputs": [],
   "source": [
    "# Encontrando todas as tags <a> (links)\n",
    "links = soup.find_all(\"a\")\n",
    "for link in links:\n",
    "    print(link.get(\"href\"))\n",
    "\n",
    "# Acessando atributos\n",
    "img = soup.find(\"img\")\n",
    "# print(img[\"src\"])   # Acessando o atributo \"src\""
   ]
  },
  {
   "cell_type": "code",
   "execution_count": 14,
   "metadata": {},
   "outputs": [],
   "source": [
    "# Usando seletores CSS\n",
    "items = soup.select(\"div#main ul.items li\")\n",
    "for item in items:\n",
    "    print(item.text)"
   ]
  },
  {
   "cell_type": "code",
   "execution_count": 21,
   "metadata": {},
   "outputs": [
    {
     "name": "stdout",
     "output_type": "stream",
     "text": [
      "<title>Novo Título</title>\n",
      "item1\n"
     ]
    }
   ],
   "source": [
    "# Modificando o conteúdo de uma tag\n",
    "soup.title.string = \"Novo Título\"\n",
    "print(soup.title)\n",
    "\n",
    "# Trabalhando com XML\n",
    "xml_doc = \"\"\"<data><item name=\"item1\">Item 1</item></data>\"\"\"\n",
    "soup = BeautifulSoup(xml_doc, \"xml\")\n",
    "item = soup.find(\"item\")\n",
    "print(item[\"name\"])"
   ]
  },
  {
   "cell_type": "markdown",
   "metadata": {},
   "source": [
    "> Acessando Filhos e Descendentes"
   ]
  },
  {
   "cell_type": "code",
   "execution_count": 25,
   "metadata": {},
   "outputs": [
    {
     "name": "stdout",
     "output_type": "stream",
     "text": [
      "[<p>Texto</p>]\n"
     ]
    }
   ],
   "source": [
    "# Carregando o conteúdo HTML\n",
    "html_doc = \"<html><body><p>Texto</p></body></html>\"\n",
    "soup = BeautifulSoup(html_doc, \"html.parser\")\n",
    "\n",
    "# Acessando filhos da tag <body>\n",
    "body_tag = soup.body\n",
    "print(body_tag.contents)"
   ]
  },
  {
   "cell_type": "code",
   "execution_count": 26,
   "metadata": {},
   "outputs": [
    {
     "name": "stdout",
     "output_type": "stream",
     "text": [
      "<p>Texto</p>\n"
     ]
    }
   ],
   "source": [
    "# Iterando sobre os filhos\n",
    "for child in body_tag.children:\n",
    "    print(child)"
   ]
  },
  {
   "cell_type": "code",
   "execution_count": 27,
   "metadata": {},
   "outputs": [
    {
     "name": "stdout",
     "output_type": "stream",
     "text": [
      "<p>Texto</p>\n",
      "Texto\n"
     ]
    }
   ],
   "source": [
    "# Acessando todos os descendentes\n",
    "for docs in body_tag.descendants:\n",
    "    print(docs)"
   ]
  },
  {
   "cell_type": "markdown",
   "metadata": {},
   "source": [
    "> Navegando Entre Irmãos"
   ]
  },
  {
   "cell_type": "code",
   "execution_count": 30,
   "metadata": {},
   "outputs": [
    {
     "name": "stdout",
     "output_type": "stream",
     "text": [
      "Texto 2\n"
     ]
    }
   ],
   "source": [
    "html_doc = \"\"\"\n",
    "<html><body>\n",
    "<p>Texto 1</p>\n",
    "<p>Texto 2</p>\n",
    "<p>Texto 3</p>\n",
    "</body></html>\n",
    "\"\"\"\n",
    "soup = BeautifulSoup(html_doc, 'html.parser')\n",
    "\n",
    "# Próximo irmão da primeira tag <p>\n",
    "first_p = soup.p\n",
    "next_p = first_p.find_next_sibling('p')\n",
    "print(next_p.text) "
   ]
  },
  {
   "cell_type": "markdown",
   "metadata": {},
   "source": [
    "> Navegando entre Elementos Adjacentes"
   ]
  },
  {
   "cell_type": "code",
   "execution_count": 31,
   "metadata": {},
   "outputs": [],
   "source": [
    "html_doc = \"\"\"\n",
    "<html><body>\n",
    "<p>Texto 1</p>\n",
    "<a href=\"#\">Link</a>\n",
    "<p>Texto 2</p>\n",
    "</body></html>\n",
    "\"\"\"\n",
    "soup = BeautifulSoup(html_doc, 'html.parser')"
   ]
  },
  {
   "cell_type": "code",
   "execution_count": 32,
   "metadata": {},
   "outputs": [
    {
     "name": "stdout",
     "output_type": "stream",
     "text": [
      "<a href=\"#\">Link</a>\n"
     ]
    }
   ],
   "source": [
    "# Acessando o próximo elemento após a tag <p>\n",
    "first_p = soup.p\n",
    "next_element = first_p.find_next('a')\n",
    "print(next_element)"
   ]
  },
  {
   "cell_type": "code",
   "execution_count": 33,
   "metadata": {},
   "outputs": [
    {
     "name": "stdout",
     "output_type": "stream",
     "text": [
      "Texto 1\n"
     ]
    }
   ],
   "source": [
    "# Acessando o elemento anterior\n",
    "previous_element = next_element.find_previous('p')\n",
    "print(previous_element.text)"
   ]
  },
  {
   "cell_type": "markdown",
   "metadata": {},
   "source": [
    "# XPath com Beautiful Soup"
   ]
  },
  {
   "cell_type": "code",
   "execution_count": 3,
   "metadata": {},
   "outputs": [],
   "source": [
    "from lxml import etree"
   ]
  },
  {
   "cell_type": "code",
   "execution_count": 20,
   "metadata": {},
   "outputs": [],
   "source": [
    "html = \"\"\"\n",
    "<div id=\"main\">\n",
    "    <div class=\"example\">First</div>\n",
    "    <div class=\"example\">Second</div>\n",
    "    <div class=\"sample\">Third</div>\n",
    "    <abc class=\"example\">Sei lá</abc>\n",
    "</div>\n",
    "\"\"\""
   ]
  },
  {
   "cell_type": "code",
   "execution_count": 21,
   "metadata": {},
   "outputs": [
    {
     "name": "stdout",
     "output_type": "stream",
     "text": [
      "Sei lá\n"
     ]
    }
   ],
   "source": [
    "tree = etree.HTML(html)\n",
    "elements = tree.xpath(\"//div[@id='main']/abc[@class='example']\")\n",
    "print(elements[0].text)"
   ]
  }
 ],
 "metadata": {
  "kernelspec": {
   "display_name": "Python 3",
   "language": "python",
   "name": "python3"
  },
  "language_info": {
   "codemirror_mode": {
    "name": "ipython",
    "version": 3
   },
   "file_extension": ".py",
   "mimetype": "text/x-python",
   "name": "python",
   "nbconvert_exporter": "python",
   "pygments_lexer": "ipython3",
   "version": "3.12.3"
  }
 },
 "nbformat": 4,
 "nbformat_minor": 2
}
